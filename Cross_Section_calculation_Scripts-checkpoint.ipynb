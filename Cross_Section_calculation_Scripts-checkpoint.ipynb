{
 "cells": [
  {
   "cell_type": "markdown",
   "id": "52cdce45",
   "metadata": {},
   "source": [
    "# My values from fits:"
   ]
  },
  {
   "cell_type": "code",
   "execution_count": 5,
   "id": "74b40118",
   "metadata": {},
   "outputs": [],
   "source": [
    "#energies from peak fits:\n",
    "\n",
    "Cs_Barium_pk = 32.0 #in keV; replace with real\n",
    "Cs_Barium_err = 0.2\n",
    "Cs_phpk = 661.9\n",
    "Cs_phpk_err = 0.4\n",
    "#we dont see cesium pair production because the relevant energy is too low-- look into the spike at like 1.4MeV?\n",
    "Cs_scatteredge = 467 #keV\n",
    "Cs_scatter_err = 10"
   ]
  },
  {
   "cell_type": "markdown",
   "id": "f4060890",
   "metadata": {},
   "source": [
    "# General formulae"
   ]
  },
  {
   "cell_type": "code",
   "execution_count": 17,
   "id": "5d3fdd54",
   "metadata": {},
   "outputs": [
    {
     "name": "stdout",
     "output_type": "stream",
     "text": [
      "1.0437156581067385e-84\n",
      "7.745676003158827e-86\n"
     ]
    }
   ],
   "source": [
    "#Doing it myself:\n",
    "#From Wikipedia\n",
    "import numpy as np\n",
    "#consts\n",
    "Ee = 511 #keV\n",
    "Z_cs = 137\n",
    "re = 2.82e-32\n",
    "#k = Eg/Ee\n",
    "Cs_k_ph = Cs_phpk/Ee\n",
    "Cs_k_c = Cs_scatteredge/Ee\n",
    "#for precise sig_ph:\n",
    "# a1 = 1.6268e−9\n",
    "# b1 = -2.683e−12\n",
    "# c1 = 4.173e−2\n",
    "# p1 = 1\n",
    "# a2 = 1.5274e−9 \n",
    "# b2 = -5.110e−13 \n",
    "# c2 = 1.027e−2 \n",
    "# p2 = 2\n",
    "# a3 = 1.1330e−9 \n",
    "# b3 = -2.177e−12 \n",
    "# c3 = 2.013e−2 \n",
    "# p3 = 3.5\n",
    "# a4 = -9.12e−11 \n",
    "# b4 = 0 \n",
    "# c4 = 0 \n",
    "# p4 = 4\n",
    "# a = [a1,a2,a3,a4]\n",
    "# b = [b1,b2,b3,b4]\n",
    "# c = [c1,c2,c3,c4]\n",
    "# p = [p1,p2,p3,p4]\n",
    "\n",
    "#PHOTOELECTRIC\n",
    "def sigma_ph(Z, alpha, re, k):\n",
    "    return (16/3) * np.sqrt(2) * np.pi * re**2 * alpha**4 * (Z**5 / k**3.5)\n",
    "\n",
    "def sig_ph_precise(Z, k, a_vals, b_vals, c_vals, p_vals):\n",
    "    sum_terms = sum((a_vals[n] + b_vals[n] * Z) / (1 + c_vals[n] * Z) * k**-p_vals[n] for n in range(4))\n",
    "    return Z**5 * sum_terms\n",
    "\n",
    "#COMPTON\n",
    "def calculate_sigma_c(Z, re, k):\n",
    "    if k <= 0:\n",
    "        raise ValueError(\"k must be greater than 0\")\n",
    "    \n",
    "    term1 = (1 + k) / (k**2)\n",
    "    bracket1 = (2 * (1 + k) / (1 + 2 * k)) - (np.log(1 + 2 * k) / k)\n",
    "    \n",
    "    term2 = np.log(1 + 2 * k) / (2 * k)\n",
    "    term3 = (1 + 3 * k) / ((1 + 2 * k)**2)\n",
    "    \n",
    "    sigma_c = Z * 2 * np.pi * re**2 * (term1 * bracket1 + term2 - term3)\n",
    "    return sigma_c\n",
    "\n",
    "#PAIR PRODUCTION\n",
    "def calculate_rho(k):\n",
    "    if k <= 0:\n",
    "        raise ValueError(\"k must be greater than 0\")\n",
    "    return (2 * k - 4) / (2 + k + 2 * np.sqrt(2 * k))\n",
    "\n",
    "def calculate_sigma_pair(Z, re, k, alpha):\n",
    "    if k <= 0:\n",
    "        raise ValueError(\"k must be greater than 0\")\n",
    "    \n",
    "    rho = calculate_rho(k)\n",
    "    \n",
    "    term1 = Z**2 * alpha * re**2 * (2 * np.pi / 3)\n",
    "    term2 = ((k - 2) / k)**3\n",
    "    \n",
    "    rho_term = 1 + (0.5 * rho) + (23 / 40) * rho**2 + (11 / 60) * rho**3 + (29 / 960) * rho**4\n",
    "    \n",
    "    sigma_pair = term1 * term2 * rho_term\n",
    "    return sigma_pair\n",
    "\n",
    "#Secondary effects (?) pair production in electron field; only works for k>4\n",
    "def sigma_trip(Z, alpha, re, k, a, b):\n",
    "    term1 = (28/9) * np.log(2 * k) - (218/27)\n",
    "    term2 = (1/k) * (- (4/3) * np.log(2 * k)**3 + 3 * np.log(2 * k)**2 - (60 + 16*a)/3 * np.log(2 * k) + (123 + 12*a + 16*b)/3)\n",
    "    term3 = (1/k**2) * ((8/3) * np.log(2 * k)**3 - 4 * np.log(2 * k)**2 + (51 + 32*a)/3 * np.log(2 * k) - (123 + 32*a + 64*b)/6)\n",
    "    term4 = (1/k**3) * (np.log(2 * k)**2 - (53/9) * np.log(2 * k) - (2915 - 288*a)/216)\n",
    "    term5 = (1/k**4) * (- (49/18) * np.log(2 * k) - 115/432)\n",
    "    term6 = (1/k**5) * (- (77/36) * np.log(2 * k) - 10831/8640)\n",
    "    term7 = (1/k**6) * (- (641/300) * np.log(2 * k) - 64573/36000)\n",
    "    term8 = (1/k**7) * (- (4423/1800) * np.log(2 * k) - 394979/216000)\n",
    "    \n",
    "    sigma = Z * alpha * re**2 * (term1 + term2 + term3 + term4 + term5 + term6 + term7 + term8)\n",
    "    return sigma\n",
    "\n",
    "#photoelectric\n",
    "Cs_sigma_photo = sigma_ph(Z_cs, alpha, re, Cs_k_ph)\n",
    "print(Cs_sigma_photo*(1/10**24))\n",
    "#compton\n",
    "Cs_sigma_compton = calculate_sigma_c(Z, re, Cs_k_c)\n",
    "print(Cs_sigma_compton*(1/10**24))"
   ]
  },
  {
   "cell_type": "code",
   "execution_count": 2,
   "id": "8b592638",
   "metadata": {},
   "outputs": [
    {
     "name": "stdout",
     "output_type": "stream",
     "text": [
      "Photoelectric cross section: 6.05e-07 cm²\n",
      "Compton scattering cross section: 1.01e+01 cm²\n",
      "Pair production cross section: 0.00e+00 cm²\n"
     ]
    }
   ],
   "source": [
    "#general formulae \n",
    "#ChatGPT's attempt\n",
    "import numpy as np\n",
    "\n",
    "# Constants\n",
    "alpha = 1 / 137  # Fine-structure constant\n",
    "re = 2.8179403227e-15  # Classical electron radius in meters\n",
    "me_c2 = 511e3  # Electron rest mass energy in eV\n",
    "phi_0 = 0.66526e-24  # Thomson cross section in cm²\n",
    "\n",
    "def photoelectric_cross_section(Z, E_gamma):\n",
    "    \"\"\"\n",
    "    Calculate the photoelectric effect cross section.\n",
    "    \n",
    "    Parameters:\n",
    "        Z (int): Atomic number of the absorber's element.\n",
    "        E_gamma (float): Photon energy in eV.\n",
    "    \n",
    "    Returns:\n",
    "        float: Photoelectric cross section in cm².\n",
    "    \"\"\"\n",
    "    k = E_gamma / me_c2\n",
    "    sigma_ph = (16 / 3) * np.sqrt(2) * np.pi * re**2 * alpha**4 * (Z**5) / (k**3.5)\n",
    "    return sigma_ph * 1e24  # Convert from m² to cm²\n",
    "\n",
    "def compton_cross_section(Z, E_gamma):\n",
    "    \"\"\"\n",
    "    Calculate the Compton scattering cross section.\n",
    "    \n",
    "    Parameters:\n",
    "        Z (int): Atomic number of the absorber's element.\n",
    "        E_gamma (float): Photon energy in eV.\n",
    "    \n",
    "    Returns:\n",
    "        float: Compton scattering cross section in cm².\n",
    "    \"\"\"\n",
    "    k = E_gamma / me_c2\n",
    "    term1 = (1 + k) / (k**2)\n",
    "    term2 = (2 * (1 + k)) / (1 + 2 * k)\n",
    "    term3 = np.log(1 + 2 * k) / k\n",
    "    term4 = (1 + 3 * k) / ((1 + 2 * k)**2)\n",
    "    sigma_C = phi_0 * Z * (term1 * (term2 - term3) + term4)\n",
    "    return sigma_C * 1e24  # Convert from m² to cm²\n",
    "\n",
    "def pair_production_cross_section(Z, E_gamma):\n",
    "    \"\"\"\n",
    "    Calculate the pair production cross section.\n",
    "    \n",
    "    Parameters:\n",
    "        Z (int): Atomic number of the absorber's element.\n",
    "        E_gamma (float): Photon energy in eV.\n",
    "    \n",
    "    Returns:\n",
    "        float: Pair production cross section in cm².\n",
    "    \"\"\"\n",
    "    if E_gamma < 2 * me_c2:\n",
    "        return 0  # Pair production threshold\n",
    "    k = E_gamma / me_c2\n",
    "    term1 = 28 / 9 * np.log(2 * k)\n",
    "    term2 = -218 / 27\n",
    "    sigma_pair = alpha * re**2 * Z**2 * (term1 + term2)\n",
    "    return sigma_pair * 1e24  # Convert from m² to cm²\n",
    "\n",
    "# Example usage\n",
    "Z = 26  # Iron\n",
    "E_gamma = 1e6  # 1 MeV in eV\n",
    "\n",
    "sigma_ph = photoelectric_cross_section(Z, E_gamma)\n",
    "sigma_C = compton_cross_section(Z, E_gamma)\n",
    "sigma_pair = pair_production_cross_section(Z, E_gamma)\n",
    "\n",
    "print(f\"Photoelectric cross section: {sigma_ph:.2e} cm²\")\n",
    "print(f\"Compton scattering cross section: {sigma_C:.2e} cm²\")\n",
    "print(f\"Pair production cross section: {sigma_pair:.2e} cm²\")\n",
    "\n"
   ]
  },
  {
   "cell_type": "code",
   "execution_count": 7,
   "id": "332a6a19",
   "metadata": {},
   "outputs": [
    {
     "data": {
      "text/plain": [
       "0.010405400045167571"
      ]
     },
     "execution_count": 7,
     "metadata": {},
     "output_type": "execute_result"
    }
   ],
   "source": [
    "photoelectric_cross_section(137, 662.2e3)"
   ]
  },
  {
   "cell_type": "code",
   "execution_count": 6,
   "id": "323f346f",
   "metadata": {},
   "outputs": [
    {
     "data": {
      "text/plain": [
       "1.040540004516757e+22"
      ]
     },
     "execution_count": 6,
     "metadata": {},
     "output_type": "execute_result"
    }
   ],
   "source": [
    "def cm2_to_barns(value_cm2):\n",
    "    \"\"\"\n",
    "    Convert cross-section from cm^2 to barns.\n",
    "    :param value_cm2: Cross-section in cm^2\n",
    "    :return: Cross-section in barns\n",
    "    \"\"\"\n",
    "    return value_cm2 * 1e24  # 1 cm^2 = 10^24 barns\n",
    "\n",
    "cm2_to_barns(0.010405400045167571)"
   ]
  },
  {
   "cell_type": "code",
   "execution_count": null,
   "id": "75d0a8fa",
   "metadata": {},
   "outputs": [],
   "source": [
    "\n"
   ]
  }
 ],
 "metadata": {
  "kernelspec": {
   "display_name": "Python 3",
   "language": "python",
   "name": "python3"
  },
  "language_info": {
   "codemirror_mode": {
    "name": "ipython",
    "version": 3
   },
   "file_extension": ".py",
   "mimetype": "text/x-python",
   "name": "python",
   "nbconvert_exporter": "python",
   "pygments_lexer": "ipython3",
   "version": "3.8.8"
  }
 },
 "nbformat": 4,
 "nbformat_minor": 5
}
