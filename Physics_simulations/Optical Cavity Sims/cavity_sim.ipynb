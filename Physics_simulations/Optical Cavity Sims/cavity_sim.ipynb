{
 "cells": [
  {
   "cell_type": "markdown",
   "id": "0b196f68",
   "metadata": {},
   "source": [
    "# Optical Cavity Simulation #\n",
    "\n",
    "The goal here is to teach myself how optical resonant cavities work and mathematically derive some properties that affect their performance to improve my intuition. Eventually, I'll also create visuals to go along with the simulations. "
   ]
  },
  {
   "cell_type": "code",
   "execution_count": null,
   "id": "3a01426b",
   "metadata": {},
   "outputs": [],
   "source": [
    "#imports\n",
    "import numpy as np\n",
    "import matplotlib.pyplot as plt\n",
    "import pandas as pd\n",
    "import seaborn as sns"
   ]
  },
  {
   "cell_type": "code",
   "execution_count": null,
   "id": "7815b984",
   "metadata": {},
   "outputs": [],
   "source": [
    "# E-fields (normed to 1):\n",
    "\n",
    "k1 = 2*np.pi/1.0  # wavevector\n",
    "k2 = 2*np.pi/1.5  # wavevector\n",
    "z = np.linspace(0, 10, 1000)  # spatial axis\n",
    "\n",
    "E1 = np.exp(1j*(k1*z))\n",
    "#E2 = np.exp(1j*(k2*z))"
   ]
  }
 ],
 "metadata": {
  "kernelspec": {
   "display_name": "Python 3",
   "language": "python",
   "name": "python3"
  },
  "language_info": {
   "name": "python",
   "version": "3.11.13"
  }
 },
 "nbformat": 4,
 "nbformat_minor": 5
}
