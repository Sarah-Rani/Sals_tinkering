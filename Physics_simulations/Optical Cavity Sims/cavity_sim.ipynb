{
 "cells": [
  {
   "cell_type": "markdown",
   "id": "0b196f68",
   "metadata": {},
   "source": [
    "# Optical Cavity Simulation #\n",
    "\n",
    "The goal here is to teach myself how optical resonant cavities work and mathematically derive some properties that affect their performance to improve my intuition. Eventually, I'll also create visuals to go along with the simulations. "
   ]
  },
  {
   "cell_type": "code",
   "execution_count": null,
   "id": "3a01426b",
   "metadata": {},
   "outputs": [],
   "source": [
    "#imports\n",
    "import numpy as np\n",
    "import matplotlib.pyplot as plt\n",
    "import pandas as pd\n",
    "import seaborn as sns"
   ]
  },
  {
   "cell_type": "code",
   "execution_count": null,
   "id": "7815b984",
   "metadata": {},
   "outputs": [],
   "source": [
    "# E-fields (normed to 1):\n",
    "\n",
    "k1 = 2*np.pi/1.0  # wavevector\n",
    "k2 = 2*np.pi/1.5  # wavevector\n",
    "z = np.linspace(0, 10, 1000)  # spatial axis\n",
    "\n",
    "E1 = np.exp(1j*(k1*z))\n",
    "#E2 = np.exp(1j*(k2*z))"
   ]
  },
  {
   "cell_type": "code",
   "execution_count": null,
   "id": "da0733c3",
   "metadata": {},
   "outputs": [],
   "source": [
    "# Functions to create two-mirror resonator\n",
    "\n",
    "def mirror(E_1, E_3, R, T):\n",
    "    \"\"\"Simulates reflection and transmission at a mirror.\n",
    "    \n",
    "    Args:\n",
    "        E_1 (complex): Incident electric field.\n",
    "        E_3 (complex): Electric field incident from the other side of the mirror.\n",
    "        R (float): Reflectivity of the mirror (0 <= R <= 1).\n",
    "        T (float): Transmissivity of the mirror (0 <= T <= 1). \n",
    "    Returns a tuple (E_2, E_4):\n",
    "        E_2 (complex): Reflected electric field.\n",
    "        E_4 (complex): Transmitted electric field. \n",
    "        \"\"\"\n",
    "    E2 = R*E_3 + 1j*T*E_1  # Reflected field\n",
    "    E4 = 1j*T*E_3 + R*E_1  # Transmitted field\n",
    "    return E2, E4\n",
    "\n",
    "def propagate(E, D, n):\n",
    "    \"\"\"Simulates propagation of an electric field through a distance D in a medium with refractive index n.\n",
    "    \n",
    "    Args:\n",
    "        E (complex): Electric field to propagate.\n",
    "        D (float): Distance to propagate.\n",
    "        n (float): Refractive index of the medium.\n",
    "    Returns:\n",
    "        E_prop (complex): Propagated electric field.\n",
    "    \"\"\"\n",
    "    k = 2*np.pi/1.0  # Wavevector in free space (assuming wavelength = 1.0)\n",
    "    E_prop = E * np.exp(-1j*k*n*D)  # Propagated field\n",
    "    return E_prop\n",
    "\n",
    "def cavity(E1, R1, T1, R2, T2, D, n, num_round_trips):\n",
    "    \"\"\"Simulates a two-mirror optical cavity.\n",
    "    \n",
    "    Args:\n",
    "        E1 (complex): Incident electric field.\n",
    "        R1 (float): Reflectivity of mirror 1 (0 <= R1 <= 1).\n",
    "        T1 (float): Transmissivity of mirror 1 (0 <= T1 <= 1).\n",
    "        R2 (float): Reflectivity of mirror 2 (0 <= R2 <= 1).\n",
    "        T2 (float): Transmissivity of mirror 2 (0 <= T2 <= 1).\n",
    "        D (float): Distance between the two mirrors.\n",
    "        n (float): Refractive index of the medium between the mirrors.\n",
    "        num_round_trips (int): Number of round trips to simulate. \"\"\"\n",
    "    \n",
    "    "
   ]
  }
 ],
 "metadata": {
  "kernelspec": {
   "display_name": "Python 3",
   "language": "python",
   "name": "python3"
  },
  "language_info": {
   "name": "python",
   "version": "3.11.13"
  }
 },
 "nbformat": 4,
 "nbformat_minor": 5
}
